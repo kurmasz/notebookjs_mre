{
 "cells": [
  {
   "cell_type": "markdown",
   "metadata": {
    "collapsed": false,
    "deletable": false,
    "editable": false,
    "trusted": true
   },
   "source": [
    "# In-Class Exercise\n",
    "\n",
    "The goals of these exercises are to \n",
    "\n",
    "1. Become more familiar with running notebooks in PrairieLearn \n",
    "2. Practice using variables and operators in Python\n",
    "\n",
    "### Task 1\n",
    "\n",
    "Write a program that assigns the user's name to the variable `name` then prints a welcome message to the user.\n",
    "\n",
    "Ex: If the input is `Pat`, the output should be:\n",
    "\n",
    "```\n",
    "Hey, Pat.\n",
    "Welcome to PrairieLearn!\n",
    "```"
   ]
  },
  {
   "cell_type": "code",
   "execution_count": 1,
   "metadata": {
    "collapsed": false
   },
   "outputs": [],
   "source": [
    "# Put your code here"
   ]
  },
  {
   "cell_type": "markdown",
   "metadata": {},
   "source": [
    "## Task 2\n",
    "\n",
    "Write a code to convert Fahrenheit to Celsius.\n",
    "\n",
    "For example, if the input is 212, your code should print\n",
    "\n",
    "```\n",
    "212 Fahrenheit is 100 Celsius.\n",
    "```\n",
    "\n",
    "The conversion formula is $c = \\frac{5}{9}(f-32)$\n",
    "\n",
    "IMPORTANT: For this exercise\n",
    "* You must store the Fahrenheit temperature in a variable named `f`.\n",
    "* Do not modify `f` once you set the temperature.\n",
    "* Do not modify `c` after setting it to the Celsius value.\n",
    "(This isn't a Python requirement. If you don't use the correct variables, the autograder won't work.)"
   ]
  },
  {
   "cell_type": "code",
   "execution_count": 2,
   "metadata": {},
   "outputs": [],
   "source": [
    "#grade DO NOT REMOVE THIS COMMENT\n",
    "# Do not put calls to input() in this code block.\n",
    "\n",
    "f = 83  # You can modify this to test your code with different inputs. Just don't modify it once you set it.\n",
    "\n",
    "# put your calculation and print statement here"
   ]
  },
  {
   "cell_type": "markdown",
   "metadata": {},
   "source": [
    "## Task 3\n",
    "\n",
    "Do the following:\n",
    "  1. Assign variables `n`, `d`, and `q` a number of nickles, dimes, and quarters, respectively.  \n",
    "  2. Calculate the total value of the coins and assign it to the variable `total`.\n",
    "  3. Print the total with two digits after the decimal point using the following statement: \n",
    "`print(f'Amount: ${total:.2f}')`\n",
    "\n",
    "For example, if `n = 3`, `d = 1`, and `q = 4` the output should be:\n",
    "\n",
    "```\n",
    "Amount: $1.25\n",
    "```\n",
    "\n",
    "Do not modify `n`, `d`, and `q` after assigning values to them. Do not put any calls to `input` inside the code block below.\n",
    "\n",
    "(This is zyLab 2.17)"
   ]
  },
  {
   "cell_type": "code",
   "execution_count": 3,
   "metadata": {},
   "outputs": [],
   "source": [
    "#grade DO NOT REMOVE THIS COMMENT\n",
    "# Do not put calls to input() in this code block.\n",
    "\n",
    "n = 1\n",
    "d = 2\n",
    "q = 3\n",
    "\n",
    "# put your calculation and print statement here"
   ]
  }
 ],
 "metadata": {
  "kernelspec": {
   "display_name": "Python 3 (system-wide)",
   "language": "python",
   "metadata": {
    "cocalc": {
     "description": "Python 3 programming language",
     "priority": 100,
     "url": "https://www.python.org/"
    }
   },
   "name": "python3",
   "resource_dir": "/ext/jupyter/kernels/python3"
  },
  "language_info": {
   "codemirror_mode": {
    "name": "ipython",
    "version": 3
   },
   "file_extension": ".py",
   "mimetype": "text/x-python",
   "name": "python",
   "nbconvert_exporter": "python",
   "pygments_lexer": "ipython3",
   "version": "3.9.6"
  }
 },
 "nbformat": 4,
 "nbformat_minor": 4
}
